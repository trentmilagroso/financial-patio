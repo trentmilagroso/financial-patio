{
 "cells": [
  {
   "cell_type": "code",
   "execution_count": 16,
   "metadata": {},
   "outputs": [
    {
     "name": "stderr",
     "output_type": "stream",
     "text": [
      "[*********************100%%**********************]  1 of 1 completed\n",
      "C:\\Users\\tmilagroso\\AppData\\Local\\Temp\\ipykernel_240368\\70964659.py:17: SettingWithCopyWarning: \n",
      "A value is trying to be set on a copy of a slice from a DataFrame.\n",
      "Try using .loc[row_indexer,col_indexer] = value instead\n",
      "\n",
      "See the caveats in the documentation: https://pandas.pydata.org/pandas-docs/stable/user_guide/indexing.html#returning-a-view-versus-a-copy\n",
      "  sp500['Tomorrow'] = sp500['Close'].shift(-1)\n"
     ]
    },
    {
     "data": {
      "text/plain": [
       "['scaler.pkl']"
      ]
     },
     "execution_count": 16,
     "metadata": {},
     "output_type": "execute_result"
    }
   ],
   "source": [
    "import yfinance as yf\n",
    "import pandas as pd\n",
    "from sklearn.preprocessing import StandardScaler\n",
    "\n",
    "# Load the S&P 500 data\n",
    "sp500 = yf.download('^GSPC', start='1990-01-01', end='2023-01-01')\n",
    "\n",
    "# Add moving averages and volatility for better results\n",
    "sp500['MA50'] = sp500['Close'].rolling(window=50).mean()\n",
    "sp500['MA200'] = sp500['Close'].rolling(window=200).mean()\n",
    "sp500['Volatility'] = sp500['Close'].rolling(window=50).std()\n",
    "\n",
    "# Drop NaN values (not relevant to our inputs)\n",
    "sp500 = sp500.dropna()\n",
    "\n",
    "# Create the 'Tomorrow' column for the target variable\n",
    "sp500['Tomorrow'] = sp500['Close'].shift(-1)\n",
    "\n",
    "# Remove any NaN values\n",
    "sp500 = sp500.dropna()\n",
    "\n",
    "# Create the target variable\n",
    "sp500['Target'] = (sp500['Tomorrow'] > sp500['Close']).astype(int)\n",
    "\n",
    "# Create the predictors\n",
    "predictors = ['Close', 'Volume', 'Open', 'High', 'Low', 'MA50', 'MA200', 'Volatility']\n",
    "\n",
    "# Ensure there are no NaN values in predictors\n",
    "sp500 = sp500.dropna(subset=predictors)\n",
    "\n",
    "# Standardize the data\n",
    "scaler = StandardScaler()\n",
    "sp500[predictors] = scaler.fit_transform(sp500[predictors])\n",
    "\n",
    "# Save the preprocessed data and scaler\n",
    "sp500.to_csv('sp500_preprocessed.csv')\n",
    "import joblib\n",
    "joblib.dump(scaler, 'scaler.pkl')"
   ]
  },
  {
   "cell_type": "code",
   "execution_count": 20,
   "metadata": {},
   "outputs": [
    {
     "name": "stdout",
     "output_type": "stream",
     "text": [
      "Cross-validated precision scores: [0.53419593 0.51811594 0.49524941 0.50949914 0.53589109]\n",
      "Mean precision score: 0.5185903014424744\n"
     ]
    },
    {
     "data": {
      "text/plain": [
       "['model.pkl']"
      ]
     },
     "execution_count": 20,
     "metadata": {},
     "output_type": "execute_result"
    }
   ],
   "source": [
    "import pandas as pd\n",
    "from sklearn.ensemble import RandomForestClassifier\n",
    "from sklearn.model_selection import cross_val_score\n",
    "\n",
    "# Load the preprocessed data\n",
    "sp500 = pd.read_csv('sp500_preprocessed.csv', index_col=0)\n",
    "\n",
    "# Define the model\n",
    "model = RandomForestClassifier(n_estimators=100, min_samples_split=10, random_state=1)\n",
    "\n",
    "# Train the model\n",
    "model.fit(sp500[predictors], sp500['Target'])\n",
    "\n",
    "# Evaluate the model using cross-validation\n",
    "scores = cross_val_score(model, sp500[predictors], sp500['Target'], cv=5, scoring='precision')\n",
    "print(\"Cross-validated precision scores:\", scores)\n",
    "print(\"Mean precision score:\", scores.mean())\n",
    "\n",
    "# Save the trained model\n",
    "joblib.dump(model, 'model.pkl')"
   ]
  },
  {
   "cell_type": "code",
   "execution_count": 19,
   "metadata": {},
   "outputs": [
    {
     "name": "stderr",
     "output_type": "stream",
     "text": [
      "[*********************100%%**********************]  1 of 1 completed"
     ]
    },
    {
     "name": "stdout",
     "output_type": "stream",
     "text": [
      "Prediction for the next day (1: Up, 0: Down): 0\n",
      "Do not buy.\n"
     ]
    },
    {
     "name": "stderr",
     "output_type": "stream",
     "text": [
      "\n",
      "C:\\Users\\tmilagroso\\AppData\\Local\\Temp\\ipykernel_240368\\2947949669.py:19: SettingWithCopyWarning: \n",
      "A value is trying to be set on a copy of a slice from a DataFrame.\n",
      "Try using .loc[row_indexer,col_indexer] = value instead\n",
      "\n",
      "See the caveats in the documentation: https://pandas.pydata.org/pandas-docs/stable/user_guide/indexing.html#returning-a-view-versus-a-copy\n",
      "  recent_data[predictors] = scaler.transform(recent_data[predictors])\n"
     ]
    }
   ],
   "source": [
    "import yfinance as yf\n",
    "import pandas as pd\n",
    "import joblib\n",
    "\n",
    "# Define the predictors\n",
    "predictors = ['Close', 'Volume', 'Open', 'High', 'Low', 'MA50', 'MA200', 'Volatility']\n",
    "\n",
    "# Load the most recent data up to today (Month Day, Year)\n",
    "recent_data = yf.download('^GSPC', start='2023-01-02', end='2024-08-06')\n",
    "\n",
    "# Create relevant inputs for recent data\n",
    "recent_data['MA50'] = recent_data['Close'].rolling(window=50).mean()\n",
    "recent_data['MA200'] = recent_data['Close'].rolling(window=200).mean()\n",
    "recent_data['Volatility'] = recent_data['Close'].rolling(window=50).std()\n",
    "recent_data = recent_data.dropna()\n",
    "\n",
    "# Standardize the recent data (consistent)\n",
    "scaler = joblib.load('scaler.pkl')\n",
    "recent_data[predictors] = scaler.transform(recent_data[predictors])\n",
    "\n",
    "# Use the latest available data for prediction\n",
    "latest_data = recent_data.iloc[-1]\n",
    "\n",
    "# Create a DataFrame for the latest data\n",
    "latest_data_df = pd.DataFrame(latest_data).T[predictors]\n",
    "\n",
    "# Load the trained model and make the prediction for the next day\n",
    "model = joblib.load('model.pkl')\n",
    "prediction = model.predict(latest_data_df)\n",
    "\n",
    "# Print the prediction\n",
    "print(\"Prediction for the next day (1: Up, 0: Down):\", prediction[0])\n",
    "\n",
    "# Buy or do not buy\n",
    "if prediction[0] == 0:\n",
    "    print(\"Do not buy.\")\n",
    "elif prediction[0] == 1:\n",
    "    print(\"Buy.\")"
   ]
  }
 ],
 "metadata": {
  "kernelspec": {
   "display_name": "Python 3",
   "language": "python",
   "name": "python3"
  },
  "language_info": {
   "codemirror_mode": {
    "name": "ipython",
    "version": 3
   },
   "file_extension": ".py",
   "mimetype": "text/x-python",
   "name": "python",
   "nbconvert_exporter": "python",
   "pygments_lexer": "ipython3",
   "version": "3.12.4"
  }
 },
 "nbformat": 4,
 "nbformat_minor": 2
}
