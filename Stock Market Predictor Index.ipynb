{
 "cells": [
  {
   "cell_type": "code",
   "execution_count": 19,
   "metadata": {},
   "outputs": [
    {
     "name": "stderr",
     "output_type": "stream",
     "text": [
      "[*********************100%%**********************]  1 of 1 completed\n"
     ]
    },
    {
     "data": {
      "text/plain": [
       "['scaler.pkl']"
      ]
     },
     "execution_count": 19,
     "metadata": {},
     "output_type": "execute_result"
    }
   ],
   "source": [
    "import yfinance as yf\n",
    "import pandas as pd\n",
    "from sklearn.preprocessing import StandardScaler\n",
    "import joblib\n",
    "\n",
    "# Load the S&P 500 data\n",
    "sp500 = yf.download('^GSPC', start='1990-01-01', end='2023-01-01')\n",
    "\n",
    "# Add moving averages and volatility for better results\n",
    "sp500['MA50'] = sp500['Close'].rolling(window=50).mean()\n",
    "sp500['MA200'] = sp500['Close'].rolling(window=200).mean()\n",
    "sp500['Volatility'] = sp500['Close'].rolling(window=50).std()\n",
    "\n",
    "# Drop NaN values (not relevant to our inputs)\n",
    "sp500 = sp500.dropna().copy()\n",
    "\n",
    "# Create the 'Tomorrow' column for the target variable\n",
    "sp500['Tomorrow'] = sp500['Close'].shift(-1)\n",
    "\n",
    "# Remove any NaN values\n",
    "sp500 = sp500.dropna().copy()\n",
    "\n",
    "# Create the target variable\n",
    "sp500['Target'] = (sp500['Tomorrow'] > sp500['Close']).astype(int)\n",
    "\n",
    "# Create the predictors\n",
    "predictors = ['Close', 'Volume', 'Open', 'High', 'Low', 'MA50', 'MA200', 'Volatility']\n",
    "\n",
    "# Ensure there are no NaN values in predictors\n",
    "sp500 = sp500.dropna(subset=predictors).copy()\n",
    "\n",
    "# Standardize the data\n",
    "scaler = StandardScaler()\n",
    "sp500[predictors] = scaler.fit_transform(sp500[predictors]).astype(float)\n",
    "\n",
    "# Save the preprocessed data and scaler\n",
    "sp500.to_csv('sp500_preprocessed.csv')\n",
    "joblib.dump(scaler, 'scaler.pkl')"
   ]
  },
  {
   "cell_type": "code",
   "execution_count": 20,
   "metadata": {},
   "outputs": [
    {
     "name": "stdout",
     "output_type": "stream",
     "text": [
      "Cross-validated precision scores: [0.53419593 0.51811594 0.49524941 0.50949914 0.53589109]\n",
      "Mean precision score: 0.5185903014424744\n"
     ]
    },
    {
     "data": {
      "text/plain": [
       "['model.pkl']"
      ]
     },
     "execution_count": 20,
     "metadata": {},
     "output_type": "execute_result"
    }
   ],
   "source": [
    "import pandas as pd\n",
    "from sklearn.ensemble import RandomForestClassifier\n",
    "from sklearn.model_selection import cross_val_score\n",
    "\n",
    "# Load the preprocessed data\n",
    "sp500 = pd.read_csv('sp500_preprocessed.csv', index_col=0)\n",
    "\n",
    "# Define the model\n",
    "model = RandomForestClassifier(n_estimators=100, min_samples_split=10, random_state=1)\n",
    "\n",
    "# Train the model\n",
    "model.fit(sp500[predictors], sp500['Target'])\n",
    "\n",
    "# Evaluate the model using cross-validation\n",
    "scores = cross_val_score(model, sp500[predictors], sp500['Target'], cv=5, scoring='precision')\n",
    "print(\"Cross-validated precision scores:\", scores)\n",
    "print(\"Mean precision score:\", scores.mean())\n",
    "\n",
    "# Save the trained model\n",
    "joblib.dump(model, 'model.pkl')"
   ]
  },
  {
   "cell_type": "code",
   "execution_count": 21,
   "metadata": {},
   "outputs": [
    {
     "name": "stderr",
     "output_type": "stream",
     "text": [
      "[*********************100%%**********************]  1 of 1 completed"
     ]
    },
    {
     "name": "stdout",
     "output_type": "stream",
     "text": [
      "Prediction for the next day (1: Up, 0: Down): 0\n",
      "Do not buy.\n",
      "                Open      High       Low     Close    Adj Close    Volume  \\\n",
      "Date                                                                        \n",
      "2023-10-18  2.847829  2.829976  2.821066  2.804588  4314.600098  0.662202   \n",
      "2023-10-19  2.811569  2.805267  2.786449  2.767713  4278.000000  0.816377   \n",
      "2023-10-20  2.763703  2.742162  2.739150  2.713467  4224.160156  0.835018   \n",
      "2023-10-23  2.699777  2.721400  2.704878  2.706294  4217.040039  0.711150   \n",
      "2023-10-24  2.725358  2.724947  2.735501  2.737165  4247.680176  0.735996   \n",
      "\n",
      "                MA50     MA200  Volatility  \n",
      "Date                                        \n",
      "2023-10-18  2.920527  2.858740    1.038053  \n",
      "2023-10-19  2.916673  2.861106    1.063558  \n",
      "2023-10-20  2.911702  2.863041    1.129984  \n",
      "2023-10-23  2.906685  2.865173    1.196546  \n",
      "2023-10-24  2.901768  2.867011    1.212174  \n",
      "               Close    Volume      Open      High       Low      MA50  \\\n",
      "2024-08-05  3.682882  1.557377  3.647569  3.718433  3.647647  3.988873   \n",
      "\n",
      "               MA200  Volatility  \n",
      "2024-08-05  3.674781    1.939514  \n",
      "Scaled values:\n",
      " [[2.80458837 0.66220167 2.84782908 ... 2.92052663 2.85874038 1.03805332]\n",
      " [2.76771268 0.81637735 2.81156909 ... 2.91667279 2.8611063  1.06355783]\n",
      " [2.71346743 0.83501755 2.76370322 ... 2.91170247 2.86304128 1.12998407]\n",
      " ...\n",
      " [3.94519286 1.21520707 4.03716691 ... 3.99081353 3.66547052 1.84071506]\n",
      " [3.84431885 1.4612958  3.87474863 ... 3.99132443 3.6705423  1.8270773 ]\n",
      " [3.68288236 1.55737708 3.64756878 ... 3.9888729  3.67478106 1.93951421]]\n"
     ]
    },
    {
     "name": "stderr",
     "output_type": "stream",
     "text": [
      "\n"
     ]
    }
   ],
   "source": [
    "import yfinance as yf\n",
    "import pandas as pd\n",
    "import joblib\n",
    "\n",
    "# Define the predictors\n",
    "predictors = ['Close', 'Volume', 'Open', 'High', 'Low', 'MA50', 'MA200', 'Volatility']\n",
    "\n",
    "# Load the most recent data up to today (Year-Month-Day)\n",
    "recent_data = yf.download('^GSPC', start='2023-01-02', end='2024-08-06')\n",
    "\n",
    "# Create relevant inputs for recent data\n",
    "recent_data['MA50'] = recent_data['Close'].rolling(window=50).mean()\n",
    "recent_data['MA200'] = recent_data['Close'].rolling(window=200).mean()\n",
    "recent_data['Volatility'] = recent_data['Close'].rolling(window=50).std()\n",
    "recent_data = recent_data.dropna().copy()  # Ensure we work with a copy\n",
    "\n",
    "# Standardize the recent data (consistent)\n",
    "scaler = joblib.load('scaler.pkl')\n",
    "scaled_values = scaler.transform(recent_data[predictors]).astype('float64')\n",
    "# Explicitly cast recent_data predictors columns to float64\n",
    "recent_data[predictors] = recent_data[predictors].astype('float64')\n",
    "recent_data.loc[:, predictors] = scaled_values\n",
    "\n",
    "# Use the latest available data for prediction\n",
    "latest_data = recent_data.iloc[-1]\n",
    "\n",
    "# Create a DataFrame for the latest data\n",
    "latest_data_df = pd.DataFrame(latest_data).T[predictors]\n",
    "\n",
    "# Load the trained model and make the prediction for the next day\n",
    "model = joblib.load('model.pkl')\n",
    "prediction = model.predict(latest_data_df)\n",
    "\n",
    "# Print the prediction\n",
    "print(\"Prediction for the next day (1: Up, 0: Down):\", prediction[0])\n",
    "\n",
    "# Buy or do not buy\n",
    "if prediction[0] == 0:\n",
    "    print(\"Do not buy.\")\n",
    "elif prediction[0] == 1:\n",
    "    print(\"Buy.\")\n",
    "\n",
    "# Debugging statements\n",
    "print(recent_data.head())\n",
    "print(latest_data_df.head())\n",
    "print(\"Scaled values:\\n\", scaled_values)"
   ]
  }
 ],
 "metadata": {
  "kernelspec": {
   "display_name": "Python 3",
   "language": "python",
   "name": "python3"
  },
  "language_info": {
   "codemirror_mode": {
    "name": "ipython",
    "version": 3
   },
   "file_extension": ".py",
   "mimetype": "text/x-python",
   "name": "python",
   "nbconvert_exporter": "python",
   "pygments_lexer": "ipython3",
   "version": "3.12.4"
  }
 },
 "nbformat": 4,
 "nbformat_minor": 2
}
